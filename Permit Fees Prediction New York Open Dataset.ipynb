{
 "cells": [
  {
   "cell_type": "code",
   "execution_count": 39,
   "metadata": {},
   "outputs": [],
   "source": [
    "import os\n",
    "import pandas as pd\n",
    "\n"
   ]
  },
  {
   "cell_type": "code",
   "execution_count": 40,
   "metadata": {},
   "outputs": [
    {
     "data": {
      "text/plain": [
       "'C:\\\\Users\\\\Tigmanshu\\\\Downloads\\\\TOPOS Assignment'"
      ]
     },
     "execution_count": 40,
     "metadata": {},
     "output_type": "execute_result"
    }
   ],
   "source": [
    "os.getcwd()"
   ]
  },
  {
   "cell_type": "code",
   "execution_count": 41,
   "metadata": {},
   "outputs": [
    {
     "name": "stdout",
     "output_type": "stream",
     "text": [
      "C:\\Users\\Tigmanshu\\Downloads\\TOPOS Assignment\n"
     ]
    }
   ],
   "source": [
    "cd C:/Users/Tigmanshu/Downloads/TOPOS Assignment"
   ]
  },
  {
   "cell_type": "code",
   "execution_count": 42,
   "metadata": {},
   "outputs": [
    {
     "name": "stderr",
     "output_type": "stream",
     "text": [
      "C:\\Users\\Tigmanshu\\Anaconda3\\lib\\site-packages\\IPython\\core\\interactiveshell.py:2785: DtypeWarning: Columns (1,8,9,10,15,25,31,33,34,35,36,51,52) have mixed types. Specify dtype option on import or set low_memory=False.\n",
      "  interactivity=interactivity, compiler=compiler, result=result)\n"
     ]
    },
    {
     "name": "stdout",
     "output_type": "stream",
     "text": [
      "import complete!!\n"
     ]
    }
   ],
   "source": [
    "raw_dataset=pd.read_csv('DOB_Permit_Issuance.csv')\n",
    "print(\"import complete!!\")"
   ]
  },
  {
   "cell_type": "code",
   "execution_count": 43,
   "metadata": {},
   "outputs": [],
   "source": [
    "#raw_dataset[\"Non-Profit\"].value_counts()\n",
    "#raw_dataset.isnull().sum()\n",
    "#raw_dataset.loc[raw_dataset['Job #'] == 322064289]"
   ]
  },
  {
   "cell_type": "code",
   "execution_count": 44,
   "metadata": {},
   "outputs": [
    {
     "name": "stdout",
     "output_type": "stream",
     "text": [
      "conversion done\n"
     ]
    }
   ],
   "source": [
    "raw_dataset['Special District 1'] = raw_dataset['Special District 1'].apply(lambda x: 0 if  pd.isnull(x) else 1)\n",
    "raw_dataset['Special District 2'] = raw_dataset['Special District 2'].apply(lambda x: 0 if  pd.isnull(x) else 1)\n",
    "raw_dataset['Work Type'] = raw_dataset['Work Type'].apply(lambda x: 1 if  pd.isnull(x) else 1)\n",
    "raw_dataset['Special District'] = raw_dataset['Special District 1'] | raw_dataset['Special District 2']\n",
    "raw_dataset['Residential'] = raw_dataset['Residential'].apply(lambda x: 0 if  pd.isnull(x) else 1)\n",
    "raw_dataset['Self_Cert'] = raw_dataset['Self_Cert'].apply(lambda x: 0 if (pd.isnull(x) or x in ['N','R','X','J'])  else 1)\n",
    "raw_dataset[\"Permit Status\"].fillna(\"ISSUED\", inplace = True) \n",
    "raw_dataset['Bldg Type'].fillna(2.0, inplace=True)\n",
    "raw_dataset['LATITUDE'].fillna((raw_dataset['LATITUDE'].mean()), inplace=True)\n",
    "raw_dataset['LONGITUDE'].fillna((raw_dataset['LONGITUDE'].mean()), inplace=True)\n",
    "raw_dataset['CENSUS_TRACT'].fillna((raw_dataset['CENSUS_TRACT'].mean()), inplace=True)\n",
    "raw_dataset['COUNCIL_DISTRICT'].fillna((raw_dataset['COUNCIL_DISTRICT'].median()), inplace=True)\n",
    "raw_dataset['Non-Profit'].fillna('N', inplace=True)\n",
    "print(\"conversion done\")\n",
    "#raw_dataset.isnull().sum()"
   ]
  },
  {
   "cell_type": "code",
   "execution_count": 45,
   "metadata": {},
   "outputs": [],
   "source": [
    "#raw_dataset[\"Permit Subtype\"].value_counts()\n",
    "#raw_dataset.groupby([\"Work Type\", \"Permit Type\"]).size()"
   ]
  },
  {
   "cell_type": "code",
   "execution_count": 46,
   "metadata": {},
   "outputs": [
    {
     "name": "stdout",
     "output_type": "stream",
     "text": [
      "coloumns removed!\n"
     ]
    },
    {
     "data": {
      "text/plain": [
       "BOROUGH                       0\n",
       "Bin #                         0\n",
       "Job #                         0\n",
       "Job Type                      0\n",
       "Self_Cert                     0\n",
       "Bldg Type                     0\n",
       "Residential                   0\n",
       "Work Type                     0\n",
       "Permit Status                 0\n",
       "Filing Status                 0\n",
       "Permit Type                   1\n",
       "Permit Sequence #             0\n",
       "Filing Date                   1\n",
       "Issuance Date             19958\n",
       "Expiration Date           11133\n",
       "Job Start Date               30\n",
       "Permittee's License #    238692\n",
       "Owner's Business Type    164589\n",
       "Non-Profit                    0\n",
       "Owner's Phone #           49040\n",
       "LATITUDE                      0\n",
       "LONGITUDE                     0\n",
       "COUNCIL_DISTRICT              0\n",
       "CENSUS_TRACT                  0\n",
       "Special District              0\n",
       "dtype: int64"
      ]
     },
     "execution_count": 46,
     "metadata": {},
     "output_type": "execute_result"
    }
   ],
   "source": [
    "essential_cols_dataset=raw_dataset.drop([\"Street Name\",\"Permit Subtype\",\"Community Board\",\"Special District 1\",\"Special District 2\",\"House #\",\"Street Name\",\"Block\",\"Lot\",\"Zip Code\",\"Site Fill\",\"Oil Gas\",\"Job doc. #\",\"Permittee's First Name\",\"Permittee's Last Name\",\"Permittee's Business Name\",\"Permittee's Phone #\",\"Permittee's License Type\",\"Permittee's Other Title\",\"Act as Superintendent\",\"HIC License\",\"Site Safety Mgr's First Name\",\"Site Safety Mgr's Last Name\",\"Site Safety Mgr Business Name\",\"Superintendent First & Last Name\",\"Superintendent Business Name\",\"Owner's First Name\",\"Owner's Last Name\",\"Owner's House #\",\"Owner's House Street Name\",\"Owner’s House City\",\"Owner’s House State\",\"Owner’s House Zip Code\",\"PERMIT_SI_NO\",\"DOBRunDate\",\"NTA_NAME\"],axis=1)\n",
    "print(\"coloumns removed!\")\n",
    "#essential_cols_dataset.shape\n",
    "list(essential_cols_dataset.columns.values)\n",
    "essential_cols_dataset.isnull().sum()\n"
   ]
  },
  {
   "cell_type": "code",
   "execution_count": 47,
   "metadata": {},
   "outputs": [
    {
     "data": {
      "text/plain": [
       "(3081258, 25)"
      ]
     },
     "execution_count": 47,
     "metadata": {},
     "output_type": "execute_result"
    }
   ],
   "source": [
    "essential_cols_dataset = essential_cols_dataset.dropna(subset=[\"Permittee's License #\"])\n",
    "essential_cols_dataset = essential_cols_dataset.dropna(subset=[\"Owner's Business Type\"])\n",
    "essential_cols_dataset = essential_cols_dataset.dropna(subset=[\"Owner's Phone #\"])\n",
    "essential_cols_dataset = essential_cols_dataset.dropna(subset=[\"Issuance Date\"])\n",
    "essential_cols_dataset = essential_cols_dataset.dropna(subset=[\"Expiration Date\"])\n",
    "essential_cols_dataset = essential_cols_dataset.dropna(subset=[\"Permit Type\"])\n",
    "essential_cols_dataset = essential_cols_dataset.dropna(subset=[\"Filing Date\"])\n",
    "essential_cols_dataset = essential_cols_dataset.dropna(subset=[\"Job Start Date\"])\n",
    "\n",
    "essential_cols_dataset.shape"
   ]
  },
  {
   "cell_type": "code",
   "execution_count": 48,
   "metadata": {},
   "outputs": [],
   "source": [
    "#essential_cols_dataset.isnull().sum()"
   ]
  },
  {
   "cell_type": "code",
   "execution_count": 49,
   "metadata": {},
   "outputs": [
    {
     "name": "stdout",
     "output_type": "stream",
     "text": [
      "aggregation complete\n"
     ]
    }
   ],
   "source": [
    "aggregation_functions = {'BOROUGH': 'first', 'Bin #': 'first', 'Job #': 'first','Job Type': 'first','Self_Cert': 'first','Bldg Type': 'first','Residential': 'first','Work Type': 'sum','Permit Status': 'last','Filing Status': 'first','Permit Type': 'first','Permit Sequence #': 'first','Filing Date': 'first','Issuance Date': 'first','Expiration Date': 'first','Job Start Date': 'first',\"Permittee's License #\": 'first',\"Owner's Business Type\": 'first','Non-Profit': 'first',\"Owner's Phone #\": 'first',\"LATITUDE\": 'first',\"LONGITUDE\": 'first',\"COUNCIL_DISTRICT\": 'first',\"CENSUS_TRACT\": 'first',\"Special District\": 'first'}\n",
    "df_new = essential_cols_dataset.groupby(essential_cols_dataset['Job #']).aggregate(aggregation_functions)\n",
    "print(\"aggregation complete\")"
   ]
  },
  {
   "cell_type": "code",
   "execution_count": 50,
   "metadata": {},
   "outputs": [
    {
     "data": {
      "text/plain": [
       "(1403473, 25)"
      ]
     },
     "execution_count": 50,
     "metadata": {},
     "output_type": "execute_result"
    }
   ],
   "source": [
    "df_new.shape"
   ]
  },
  {
   "cell_type": "code",
   "execution_count": 51,
   "metadata": {},
   "outputs": [
    {
     "name": "stderr",
     "output_type": "stream",
     "text": [
      "C:\\Users\\Tigmanshu\\Anaconda3\\lib\\site-packages\\IPython\\core\\interactiveshell.py:2785: DtypeWarning: Columns (5,6,13,14,21,38,59,60,68,78,79) have mixed types. Specify dtype option on import or set low_memory=False.\n",
      "  interactivity=interactivity, compiler=compiler, result=result)\n"
     ]
    },
    {
     "name": "stdout",
     "output_type": "stream",
     "text": [
      "import complete for job dataset!!\n"
     ]
    }
   ],
   "source": [
    "job_raw_dataset=pd.read_csv('DOB_Job_Application_Filings.csv')\n",
    "print(\"import complete for job dataset!!\")"
   ]
  },
  {
   "cell_type": "code",
   "execution_count": 52,
   "metadata": {},
   "outputs": [],
   "source": [
    "#raw_dataset.loc[raw_dataset['Job #'] == 420932824]"
   ]
  },
  {
   "cell_type": "code",
   "execution_count": 53,
   "metadata": {},
   "outputs": [],
   "source": [
    "#job_raw_dataset.loc[job_raw_dataset['Job #'] == 420932824]"
   ]
  },
  {
   "cell_type": "code",
   "execution_count": 54,
   "metadata": {},
   "outputs": [],
   "source": [
    "#list(job_raw_dataset.columns.values)"
   ]
  },
  {
   "cell_type": "code",
   "execution_count": 55,
   "metadata": {},
   "outputs": [],
   "source": [
    "job_raw_dataset=job_raw_dataset[[\"Job #\",\"JOB_S1_NO\",\"DOBRunDate\",\"Doc #\",\"City Owned\",\"Plumbing\",\"Mechanical\",\"Boiler\",\"Fuel Burning\",\"Fuel Storage\",\"Standpipe\",\"Sprinkler\",\"Fire Alarm\",\"Equipment\",\"Fire Suppression\",\"Curb Cut\",\"Other\",\"Professional Cert\",\"Initial Cost\",\"Total Est. Fee\"]]"
   ]
  },
  {
   "cell_type": "code",
   "execution_count": 56,
   "metadata": {},
   "outputs": [
    {
     "data": {
      "text/plain": [
       "['Job #',\n",
       " 'JOB_S1_NO',\n",
       " 'DOBRunDate',\n",
       " 'Doc #',\n",
       " 'City Owned',\n",
       " 'Plumbing',\n",
       " 'Mechanical',\n",
       " 'Boiler',\n",
       " 'Fuel Burning',\n",
       " 'Fuel Storage',\n",
       " 'Standpipe',\n",
       " 'Sprinkler',\n",
       " 'Fire Alarm',\n",
       " 'Equipment',\n",
       " 'Fire Suppression',\n",
       " 'Curb Cut',\n",
       " 'Other',\n",
       " 'Professional Cert',\n",
       " 'Initial Cost',\n",
       " 'Total Est. Fee']"
      ]
     },
     "execution_count": 56,
     "metadata": {},
     "output_type": "execute_result"
    }
   ],
   "source": [
    "#job_raw_dataset.shape\n",
    "list(job_raw_dataset.columns.values)"
   ]
  },
  {
   "cell_type": "code",
   "execution_count": 57,
   "metadata": {},
   "outputs": [],
   "source": [
    "#job_raw_dataset.isnull().sum()"
   ]
  },
  {
   "cell_type": "code",
   "execution_count": 58,
   "metadata": {},
   "outputs": [],
   "source": [
    "job_raw_dataset['City Owned'] = job_raw_dataset['City Owned'].apply(lambda x: 0 if  pd.isnull(x) else 1)\n",
    "job_raw_dataset['Plumbing'] = job_raw_dataset['Plumbing'].apply(lambda x: 0 if  pd.isnull(x) else 1)\n",
    "job_raw_dataset['Mechanical'] = job_raw_dataset['Mechanical'].apply(lambda x: 0 if  pd.isnull(x) else 1)\n",
    "job_raw_dataset['Boiler'] = job_raw_dataset['Boiler'].apply(lambda x: 0 if  pd.isnull(x) else 1)\n",
    "job_raw_dataset['Fuel Burning'] = job_raw_dataset['Fuel Burning'].apply(lambda x: 0 if  pd.isnull(x) else 1)\n",
    "job_raw_dataset['Fuel Storage'] = job_raw_dataset['Fuel Storage'].apply(lambda x: 0 if  pd.isnull(x) else 1)\n",
    "job_raw_dataset['Standpipe'] = job_raw_dataset['Sprinkler'].apply(lambda x: 0 if  pd.isnull(x) else 1)\n",
    "job_raw_dataset['Sprinkler'] = job_raw_dataset['Plumbing'].apply(lambda x: 0 if  pd.isnull(x) else 1)\n",
    "job_raw_dataset['Fire Alarm'] = job_raw_dataset['Fire Alarm'].apply(lambda x: 0 if  pd.isnull(x) else 1)\n",
    "job_raw_dataset['Equipment'] = job_raw_dataset['Equipment'].apply(lambda x: 0 if  pd.isnull(x) else 1)\n",
    "job_raw_dataset['Fire Suppression'] = job_raw_dataset['Fire Suppression'].apply(lambda x: 0 if  pd.isnull(x) else 1)\n",
    "job_raw_dataset['Curb Cut'] = job_raw_dataset['Curb Cut'].apply(lambda x: 0 if  pd.isnull(x) else 1)\n",
    "job_raw_dataset['Other'] = job_raw_dataset['Other'].apply(lambda x: 0 if  pd.isnull(x) else 1)\n",
    "job_raw_dataset['Professional Cert'] = job_raw_dataset['Professional Cert'].apply(lambda x: 0 if  pd.isnull(x) else 1)"
   ]
  },
  {
   "cell_type": "code",
   "execution_count": 59,
   "metadata": {},
   "outputs": [
    {
     "data": {
      "text/plain": [
       "Job #                0\n",
       "JOB_S1_NO            0\n",
       "DOBRunDate           0\n",
       "Doc #                0\n",
       "City Owned           0\n",
       "Plumbing             0\n",
       "Mechanical           0\n",
       "Boiler               0\n",
       "Fuel Burning         0\n",
       "Fuel Storage         0\n",
       "Standpipe            0\n",
       "Sprinkler            0\n",
       "Fire Alarm           0\n",
       "Equipment            0\n",
       "Fire Suppression     0\n",
       "Curb Cut             0\n",
       "Other                0\n",
       "Professional Cert    0\n",
       "Initial Cost         0\n",
       "Total Est. Fee       0\n",
       "dtype: int64"
      ]
     },
     "execution_count": 59,
     "metadata": {},
     "output_type": "execute_result"
    }
   ],
   "source": [
    "job_raw_dataset.isnull().sum()"
   ]
  },
  {
   "cell_type": "code",
   "execution_count": 60,
   "metadata": {},
   "outputs": [],
   "source": [
    "#job_raw_dataset[\"Job #\"].isin(essential_cols_dataset[\"Job #\"]).value_counts()"
   ]
  },
  {
   "cell_type": "code",
   "execution_count": 61,
   "metadata": {},
   "outputs": [],
   "source": [
    "\n",
    "#job_raw_dataset.head"
   ]
  },
  {
   "cell_type": "code",
   "execution_count": 62,
   "metadata": {},
   "outputs": [
    {
     "name": "stdout",
     "output_type": "stream",
     "text": [
      "aggregation completed for job dataset\n"
     ]
    }
   ],
   "source": [
    "#job_raw_dataset.loc[job_raw_dataset['Job #'] == 122705000]\n",
    "#job_raw_dataset[\"Job #\"].value_counts()\n",
    "aggregation_functions_job = {'Job #': 'first', 'JOB_S1_NO': 'first', 'DOBRunDate': 'first','Doc #': 'first','City Owned': 'first','Plumbing': 'first','Mechanical': 'first','Boiler': 'first','Fuel Burning': 'first','Fuel Storage': 'first','Standpipe': 'first','Sprinkler': 'first','Fire Alarm': 'first','Equipment': 'first','Fire Suppression': 'first','Curb Cut': 'first',\"Other\": 'first',\"Professional Cert\": 'first','Initial Cost': 'first',\"Total Est. Fee\": 'first'}\n",
    "df_job_new = job_raw_dataset.groupby(job_raw_dataset['Job #']).aggregate(aggregation_functions_job)\n",
    "print(\"aggregation completed for job dataset\")"
   ]
  },
  {
   "cell_type": "code",
   "execution_count": 63,
   "metadata": {},
   "outputs": [
    {
     "data": {
      "text/plain": [
       "(1403473, 25)"
      ]
     },
     "execution_count": 63,
     "metadata": {},
     "output_type": "execute_result"
    }
   ],
   "source": [
    "#df_job_new[\"Job #\"].value_counts()\n",
    "#df_job_new[\"Job #\"].isin(df_new[\"Job #\"]).value_counts()\n",
    "df_new.shape"
   ]
  },
  {
   "cell_type": "code",
   "execution_count": 64,
   "metadata": {},
   "outputs": [
    {
     "name": "stderr",
     "output_type": "stream",
     "text": [
      "C:\\Users\\Tigmanshu\\Anaconda3\\lib\\site-packages\\ipykernel_launcher.py:1: FutureWarning: 'Job #' is both an index level and a column label.\n",
      "Defaulting to column, but this will raise an ambiguity error in a future version\n",
      "  \"\"\"Entry point for launching an IPython kernel.\n"
     ]
    },
    {
     "name": "stdout",
     "output_type": "stream",
     "text": [
      "datasets merged\n"
     ]
    }
   ],
   "source": [
    "merged_dataset=df_job_new.merge(df_new,how='inner' ,on='Job #')\n",
    "print(\"datasets merged\")"
   ]
  },
  {
   "cell_type": "code",
   "execution_count": 65,
   "metadata": {},
   "outputs": [
    {
     "data": {
      "text/plain": [
       "Job #                    0\n",
       "JOB_S1_NO                0\n",
       "DOBRunDate               0\n",
       "Doc #                    0\n",
       "City Owned               0\n",
       "Plumbing                 0\n",
       "Mechanical               0\n",
       "Boiler                   0\n",
       "Fuel Burning             0\n",
       "Fuel Storage             0\n",
       "Standpipe                0\n",
       "Sprinkler                0\n",
       "Fire Alarm               0\n",
       "Equipment                0\n",
       "Fire Suppression         0\n",
       "Curb Cut                 0\n",
       "Other                    0\n",
       "Professional Cert        0\n",
       "Initial Cost             0\n",
       "Total Est. Fee           0\n",
       "BOROUGH                  0\n",
       "Bin #                    0\n",
       "Job Type                 0\n",
       "Self_Cert                0\n",
       "Bldg Type                0\n",
       "Residential              0\n",
       "Work Type                0\n",
       "Permit Status            0\n",
       "Filing Status            0\n",
       "Permit Type              0\n",
       "Permit Sequence #        0\n",
       "Filing Date              0\n",
       "Issuance Date            0\n",
       "Expiration Date          0\n",
       "Job Start Date           0\n",
       "Permittee's License #    0\n",
       "Owner's Business Type    0\n",
       "Non-Profit               0\n",
       "Owner's Phone #          0\n",
       "LATITUDE                 0\n",
       "LONGITUDE                0\n",
       "COUNCIL_DISTRICT         0\n",
       "CENSUS_TRACT             0\n",
       "Special District         0\n",
       "dtype: int64"
      ]
     },
     "execution_count": 65,
     "metadata": {},
     "output_type": "execute_result"
    }
   ],
   "source": [
    "merged_dataset.isnull().sum()"
   ]
  },
  {
   "cell_type": "code",
   "execution_count": 66,
   "metadata": {},
   "outputs": [
    {
     "data": {
      "text/html": [
       "<div>\n",
       "<style scoped>\n",
       "    .dataframe tbody tr th:only-of-type {\n",
       "        vertical-align: middle;\n",
       "    }\n",
       "\n",
       "    .dataframe tbody tr th {\n",
       "        vertical-align: top;\n",
       "    }\n",
       "\n",
       "    .dataframe thead th {\n",
       "        text-align: right;\n",
       "    }\n",
       "</style>\n",
       "<table border=\"1\" class=\"dataframe\">\n",
       "  <thead>\n",
       "    <tr style=\"text-align: right;\">\n",
       "      <th></th>\n",
       "      <th>Job #</th>\n",
       "      <th>JOB_S1_NO</th>\n",
       "      <th>DOBRunDate</th>\n",
       "      <th>Doc #</th>\n",
       "      <th>City Owned</th>\n",
       "      <th>Plumbing</th>\n",
       "      <th>Mechanical</th>\n",
       "      <th>Boiler</th>\n",
       "      <th>Fuel Burning</th>\n",
       "      <th>Fuel Storage</th>\n",
       "      <th>...</th>\n",
       "      <th>Job Start Date</th>\n",
       "      <th>Permittee's License #</th>\n",
       "      <th>Owner's Business Type</th>\n",
       "      <th>Non-Profit</th>\n",
       "      <th>Owner's Phone #</th>\n",
       "      <th>LATITUDE</th>\n",
       "      <th>LONGITUDE</th>\n",
       "      <th>COUNCIL_DISTRICT</th>\n",
       "      <th>CENSUS_TRACT</th>\n",
       "      <th>Special District</th>\n",
       "    </tr>\n",
       "  </thead>\n",
       "  <tbody>\n",
       "    <tr>\n",
       "      <th>0</th>\n",
       "      <td>100321046</td>\n",
       "      <td>35932</td>\n",
       "      <td>11/02/2018 12:00:00 AM</td>\n",
       "      <td>2</td>\n",
       "      <td>0</td>\n",
       "      <td>0</td>\n",
       "      <td>0</td>\n",
       "      <td>0</td>\n",
       "      <td>0</td>\n",
       "      <td>0</td>\n",
       "      <td>...</td>\n",
       "      <td>09/17/2004 12:00:00 AM</td>\n",
       "      <td>23947</td>\n",
       "      <td>PARTNERSHIP</td>\n",
       "      <td>N</td>\n",
       "      <td>2123820005</td>\n",
       "      <td>40.756753</td>\n",
       "      <td>-73.978509</td>\n",
       "      <td>4.0</td>\n",
       "      <td>96.0</td>\n",
       "      <td>1</td>\n",
       "    </tr>\n",
       "    <tr>\n",
       "      <th>1</th>\n",
       "      <td>100461778</td>\n",
       "      <td>54848</td>\n",
       "      <td>03/11/2019 12:00:00 AM</td>\n",
       "      <td>3</td>\n",
       "      <td>0</td>\n",
       "      <td>0</td>\n",
       "      <td>1</td>\n",
       "      <td>0</td>\n",
       "      <td>0</td>\n",
       "      <td>0</td>\n",
       "      <td>...</td>\n",
       "      <td>11/19/2002 12:00:00 AM</td>\n",
       "      <td>602595</td>\n",
       "      <td>PARTNERSHIP</td>\n",
       "      <td>N</td>\n",
       "      <td>2.12758e+09</td>\n",
       "      <td>40.714793</td>\n",
       "      <td>-74.009357</td>\n",
       "      <td>1.0</td>\n",
       "      <td>21.0</td>\n",
       "      <td>1</td>\n",
       "    </tr>\n",
       "    <tr>\n",
       "      <th>2</th>\n",
       "      <td>100497945</td>\n",
       "      <td>59765</td>\n",
       "      <td>03/11/2019 12:00:00 AM</td>\n",
       "      <td>2</td>\n",
       "      <td>0</td>\n",
       "      <td>1</td>\n",
       "      <td>0</td>\n",
       "      <td>0</td>\n",
       "      <td>0</td>\n",
       "      <td>0</td>\n",
       "      <td>...</td>\n",
       "      <td>03/13/2003 12:00:00 AM</td>\n",
       "      <td>37435</td>\n",
       "      <td>INDIVIDUAL</td>\n",
       "      <td>N</td>\n",
       "      <td>2124311800</td>\n",
       "      <td>40.761062</td>\n",
       "      <td>-73.994871</td>\n",
       "      <td>3.0</td>\n",
       "      <td>129.0</td>\n",
       "      <td>1</td>\n",
       "    </tr>\n",
       "    <tr>\n",
       "      <th>3</th>\n",
       "      <td>100664372</td>\n",
       "      <td>78526</td>\n",
       "      <td>11/02/2018 12:00:00 AM</td>\n",
       "      <td>2</td>\n",
       "      <td>0</td>\n",
       "      <td>1</td>\n",
       "      <td>0</td>\n",
       "      <td>0</td>\n",
       "      <td>0</td>\n",
       "      <td>0</td>\n",
       "      <td>...</td>\n",
       "      <td>09/18/2002 12:00:00 AM</td>\n",
       "      <td>26999</td>\n",
       "      <td>PARTNERSHIP</td>\n",
       "      <td>N</td>\n",
       "      <td>2127378850</td>\n",
       "      <td>40.770642</td>\n",
       "      <td>-73.952770</td>\n",
       "      <td>5.0</td>\n",
       "      <td>132.0</td>\n",
       "      <td>0</td>\n",
       "    </tr>\n",
       "    <tr>\n",
       "      <th>4</th>\n",
       "      <td>100714719</td>\n",
       "      <td>84708</td>\n",
       "      <td>11/02/2018 12:00:00 AM</td>\n",
       "      <td>1</td>\n",
       "      <td>0</td>\n",
       "      <td>0</td>\n",
       "      <td>0</td>\n",
       "      <td>0</td>\n",
       "      <td>0</td>\n",
       "      <td>0</td>\n",
       "      <td>...</td>\n",
       "      <td>09/11/2003 12:00:00 AM</td>\n",
       "      <td>499</td>\n",
       "      <td>OTHER</td>\n",
       "      <td>Y</td>\n",
       "      <td>7188533125</td>\n",
       "      <td>40.766555</td>\n",
       "      <td>-73.980419</td>\n",
       "      <td>4.0</td>\n",
       "      <td>137.0</td>\n",
       "      <td>0</td>\n",
       "    </tr>\n",
       "    <tr>\n",
       "      <th>5</th>\n",
       "      <td>101059907</td>\n",
       "      <td>129701</td>\n",
       "      <td>11/02/2018 12:00:00 AM</td>\n",
       "      <td>2</td>\n",
       "      <td>0</td>\n",
       "      <td>0</td>\n",
       "      <td>1</td>\n",
       "      <td>0</td>\n",
       "      <td>0</td>\n",
       "      <td>0</td>\n",
       "      <td>...</td>\n",
       "      <td>10/17/2000 12:00:00 AM</td>\n",
       "      <td>1373</td>\n",
       "      <td>CORPORATION</td>\n",
       "      <td>N</td>\n",
       "      <td>2127246100</td>\n",
       "      <td>40.790717</td>\n",
       "      <td>-73.978173</td>\n",
       "      <td>6.0</td>\n",
       "      <td>175.0</td>\n",
       "      <td>0</td>\n",
       "    </tr>\n",
       "    <tr>\n",
       "      <th>6</th>\n",
       "      <td>101313268</td>\n",
       "      <td>156746</td>\n",
       "      <td>11/02/2018 12:00:00 AM</td>\n",
       "      <td>1</td>\n",
       "      <td>0</td>\n",
       "      <td>1</td>\n",
       "      <td>1</td>\n",
       "      <td>0</td>\n",
       "      <td>0</td>\n",
       "      <td>0</td>\n",
       "      <td>...</td>\n",
       "      <td>02/28/2001 12:00:00 AM</td>\n",
       "      <td>1071</td>\n",
       "      <td>PARTNERSHIP</td>\n",
       "      <td>N</td>\n",
       "      <td>2129724865</td>\n",
       "      <td>40.756391</td>\n",
       "      <td>-73.978206</td>\n",
       "      <td>4.0</td>\n",
       "      <td>94.0</td>\n",
       "      <td>1</td>\n",
       "    </tr>\n",
       "    <tr>\n",
       "      <th>7</th>\n",
       "      <td>101384459</td>\n",
       "      <td>165665</td>\n",
       "      <td>11/02/2018 12:00:00 AM</td>\n",
       "      <td>3</td>\n",
       "      <td>0</td>\n",
       "      <td>0</td>\n",
       "      <td>0</td>\n",
       "      <td>0</td>\n",
       "      <td>0</td>\n",
       "      <td>0</td>\n",
       "      <td>...</td>\n",
       "      <td>06/06/2001 12:00:00 AM</td>\n",
       "      <td>3605</td>\n",
       "      <td>INDIVIDUAL</td>\n",
       "      <td>N</td>\n",
       "      <td>2126759148</td>\n",
       "      <td>40.734344</td>\n",
       "      <td>-74.006881</td>\n",
       "      <td>3.0</td>\n",
       "      <td>75.0</td>\n",
       "      <td>0</td>\n",
       "    </tr>\n",
       "    <tr>\n",
       "      <th>8</th>\n",
       "      <td>101387465</td>\n",
       "      <td>166054</td>\n",
       "      <td>11/02/2018 12:00:00 AM</td>\n",
       "      <td>2</td>\n",
       "      <td>0</td>\n",
       "      <td>1</td>\n",
       "      <td>1</td>\n",
       "      <td>0</td>\n",
       "      <td>0</td>\n",
       "      <td>0</td>\n",
       "      <td>...</td>\n",
       "      <td>07/20/2001 12:00:00 AM</td>\n",
       "      <td>3407</td>\n",
       "      <td>PARTNERSHIP</td>\n",
       "      <td>N</td>\n",
       "      <td>2127126000</td>\n",
       "      <td>40.745422</td>\n",
       "      <td>-73.992905</td>\n",
       "      <td>3.0</td>\n",
       "      <td>91.0</td>\n",
       "      <td>0</td>\n",
       "    </tr>\n",
       "    <tr>\n",
       "      <th>9</th>\n",
       "      <td>101439999</td>\n",
       "      <td>171443</td>\n",
       "      <td>11/02/2018 12:00:00 AM</td>\n",
       "      <td>2</td>\n",
       "      <td>0</td>\n",
       "      <td>0</td>\n",
       "      <td>1</td>\n",
       "      <td>0</td>\n",
       "      <td>0</td>\n",
       "      <td>0</td>\n",
       "      <td>...</td>\n",
       "      <td>10/23/2000 12:00:00 AM</td>\n",
       "      <td>1228</td>\n",
       "      <td>PARTNERSHIP</td>\n",
       "      <td>N</td>\n",
       "      <td>2125702400</td>\n",
       "      <td>40.778768</td>\n",
       "      <td>-73.949789</td>\n",
       "      <td>5.0</td>\n",
       "      <td>14602.0</td>\n",
       "      <td>0</td>\n",
       "    </tr>\n",
       "  </tbody>\n",
       "</table>\n",
       "<p>10 rows × 44 columns</p>\n",
       "</div>"
      ],
      "text/plain": [
       "       Job #  JOB_S1_NO              DOBRunDate  Doc #  City Owned  Plumbing  \\\n",
       "0  100321046      35932  11/02/2018 12:00:00 AM      2           0         0   \n",
       "1  100461778      54848  03/11/2019 12:00:00 AM      3           0         0   \n",
       "2  100497945      59765  03/11/2019 12:00:00 AM      2           0         1   \n",
       "3  100664372      78526  11/02/2018 12:00:00 AM      2           0         1   \n",
       "4  100714719      84708  11/02/2018 12:00:00 AM      1           0         0   \n",
       "5  101059907     129701  11/02/2018 12:00:00 AM      2           0         0   \n",
       "6  101313268     156746  11/02/2018 12:00:00 AM      1           0         1   \n",
       "7  101384459     165665  11/02/2018 12:00:00 AM      3           0         0   \n",
       "8  101387465     166054  11/02/2018 12:00:00 AM      2           0         1   \n",
       "9  101439999     171443  11/02/2018 12:00:00 AM      2           0         0   \n",
       "\n",
       "   Mechanical  Boiler  Fuel Burning  Fuel Storage       ...         \\\n",
       "0           0       0             0             0       ...          \n",
       "1           1       0             0             0       ...          \n",
       "2           0       0             0             0       ...          \n",
       "3           0       0             0             0       ...          \n",
       "4           0       0             0             0       ...          \n",
       "5           1       0             0             0       ...          \n",
       "6           1       0             0             0       ...          \n",
       "7           0       0             0             0       ...          \n",
       "8           1       0             0             0       ...          \n",
       "9           1       0             0             0       ...          \n",
       "\n",
       "           Job Start Date  Permittee's License #  Owner's Business Type  \\\n",
       "0  09/17/2004 12:00:00 AM                  23947            PARTNERSHIP   \n",
       "1  11/19/2002 12:00:00 AM                 602595            PARTNERSHIP   \n",
       "2  03/13/2003 12:00:00 AM                  37435             INDIVIDUAL   \n",
       "3  09/18/2002 12:00:00 AM                  26999            PARTNERSHIP   \n",
       "4  09/11/2003 12:00:00 AM                    499                  OTHER   \n",
       "5  10/17/2000 12:00:00 AM                   1373            CORPORATION   \n",
       "6  02/28/2001 12:00:00 AM                   1071            PARTNERSHIP   \n",
       "7  06/06/2001 12:00:00 AM                   3605             INDIVIDUAL   \n",
       "8  07/20/2001 12:00:00 AM                   3407            PARTNERSHIP   \n",
       "9  10/23/2000 12:00:00 AM                   1228            PARTNERSHIP   \n",
       "\n",
       "   Non-Profit  Owner's Phone #   LATITUDE  LONGITUDE  COUNCIL_DISTRICT  \\\n",
       "0           N       2123820005  40.756753 -73.978509               4.0   \n",
       "1           N      2.12758e+09  40.714793 -74.009357               1.0   \n",
       "2           N       2124311800  40.761062 -73.994871               3.0   \n",
       "3           N       2127378850  40.770642 -73.952770               5.0   \n",
       "4           Y       7188533125  40.766555 -73.980419               4.0   \n",
       "5           N       2127246100  40.790717 -73.978173               6.0   \n",
       "6           N       2129724865  40.756391 -73.978206               4.0   \n",
       "7           N       2126759148  40.734344 -74.006881               3.0   \n",
       "8           N       2127126000  40.745422 -73.992905               3.0   \n",
       "9           N       2125702400  40.778768 -73.949789               5.0   \n",
       "\n",
       "  CENSUS_TRACT Special District  \n",
       "0         96.0                1  \n",
       "1         21.0                1  \n",
       "2        129.0                1  \n",
       "3        132.0                0  \n",
       "4        137.0                0  \n",
       "5        175.0                0  \n",
       "6         94.0                1  \n",
       "7         75.0                0  \n",
       "8         91.0                0  \n",
       "9      14602.0                0  \n",
       "\n",
       "[10 rows x 44 columns]"
      ]
     },
     "execution_count": 66,
     "metadata": {},
     "output_type": "execute_result"
    }
   ],
   "source": [
    "merged_dataset.head(10)"
   ]
  },
  {
   "cell_type": "code",
   "execution_count": 67,
   "metadata": {},
   "outputs": [
    {
     "data": {
      "text/plain": [
       "(1110008, 40)"
      ]
     },
     "execution_count": 67,
     "metadata": {},
     "output_type": "execute_result"
    }
   ],
   "source": [
    "merged_dataset=merged_dataset.drop([\"DOBRunDate\",\"Issuance Date\",\"Expiration Date\",\"Job Start Date\"],axis=1)\n",
    "merged_dataset.shape"
   ]
  },
  {
   "cell_type": "code",
   "execution_count": 68,
   "metadata": {},
   "outputs": [
    {
     "data": {
      "text/plain": [
       "(1110008, 37)"
      ]
     },
     "execution_count": 68,
     "metadata": {},
     "output_type": "execute_result"
    }
   ],
   "source": [
    "final_dataset=merged_dataset.drop([\"JOB_S1_NO\",\"Owner's Phone #\",\"Permittee's License #\"],axis=1)\n",
    "final_dataset.shape"
   ]
  },
  {
   "cell_type": "code",
   "execution_count": 69,
   "metadata": {},
   "outputs": [
    {
     "data": {
      "text/plain": [
       "['Job #',\n",
       " 'Doc #',\n",
       " 'City Owned',\n",
       " 'Plumbing',\n",
       " 'Mechanical',\n",
       " 'Boiler',\n",
       " 'Fuel Burning',\n",
       " 'Fuel Storage',\n",
       " 'Standpipe',\n",
       " 'Sprinkler',\n",
       " 'Fire Alarm',\n",
       " 'Equipment',\n",
       " 'Fire Suppression',\n",
       " 'Curb Cut',\n",
       " 'Other',\n",
       " 'Professional Cert',\n",
       " 'Initial Cost',\n",
       " 'Total Est. Fee',\n",
       " 'BOROUGH',\n",
       " 'Bin #',\n",
       " 'Job Type',\n",
       " 'Self_Cert',\n",
       " 'Bldg Type',\n",
       " 'Residential',\n",
       " 'Work Type',\n",
       " 'Permit Status',\n",
       " 'Filing Status',\n",
       " 'Permit Type',\n",
       " 'Permit Sequence #',\n",
       " 'Filing Date',\n",
       " \"Owner's Business Type\",\n",
       " 'Non-Profit',\n",
       " 'LATITUDE',\n",
       " 'LONGITUDE',\n",
       " 'COUNCIL_DISTRICT',\n",
       " 'CENSUS_TRACT',\n",
       " 'Special District']"
      ]
     },
     "execution_count": 69,
     "metadata": {},
     "output_type": "execute_result"
    }
   ],
   "source": [
    "list(final_dataset.columns.values)"
   ]
  },
  {
   "cell_type": "code",
   "execution_count": 70,
   "metadata": {},
   "outputs": [
    {
     "data": {
      "text/plain": [
       "Job #                      int64\n",
       "Doc #                      int64\n",
       "City Owned                 int64\n",
       "Plumbing                   int64\n",
       "Mechanical                 int64\n",
       "Boiler                     int64\n",
       "Fuel Burning               int64\n",
       "Fuel Storage               int64\n",
       "Standpipe                  int64\n",
       "Sprinkler                  int64\n",
       "Fire Alarm                 int64\n",
       "Equipment                  int64\n",
       "Fire Suppression           int64\n",
       "Curb Cut                   int64\n",
       "Other                      int64\n",
       "Professional Cert          int64\n",
       "Initial Cost              object\n",
       "Total Est. Fee            object\n",
       "BOROUGH                   object\n",
       "Bin #                     object\n",
       "Job Type                  object\n",
       "Self_Cert                  int64\n",
       "Bldg Type                float64\n",
       "Residential                int64\n",
       "Work Type                  int64\n",
       "Permit Status             object\n",
       "Filing Status             object\n",
       "Permit Type               object\n",
       "Permit Sequence #          int64\n",
       "Filing Date               object\n",
       "Owner's Business Type     object\n",
       "Non-Profit                object\n",
       "LATITUDE                 float64\n",
       "LONGITUDE                float64\n",
       "COUNCIL_DISTRICT         float64\n",
       "CENSUS_TRACT             float64\n",
       "Special District           int64\n",
       "dtype: object"
      ]
     },
     "execution_count": 70,
     "metadata": {},
     "output_type": "execute_result"
    }
   ],
   "source": [
    "final_dataset.dtypes"
   ]
  },
  {
   "cell_type": "code",
   "execution_count": 71,
   "metadata": {},
   "outputs": [
    {
     "data": {
      "text/plain": [
       "(1110008, 33)"
      ]
     },
     "execution_count": 71,
     "metadata": {},
     "output_type": "execute_result"
    }
   ],
   "source": [
    "final_dataset=final_dataset.drop([\"Job #\",\"Doc #\",\"Permit Sequence #\",\"Filing Date\"],axis=1)\n",
    "final_dataset.shape"
   ]
  },
  {
   "cell_type": "code",
   "execution_count": 72,
   "metadata": {},
   "outputs": [],
   "source": [
    "#final_dataset[\"Total Est. Fee\"].value_counts()"
   ]
  },
  {
   "cell_type": "code",
   "execution_count": 73,
   "metadata": {},
   "outputs": [],
   "source": [
    "#final_dataset.loc[final_dataset['Permit Status'] == 'ISSUED']"
   ]
  },
  {
   "cell_type": "code",
   "execution_count": 74,
   "metadata": {},
   "outputs": [],
   "source": [
    "final_dataset_wo_zero = final_dataset[final_dataset['Total Est. Fee'] != '$0.00']"
   ]
  },
  {
   "cell_type": "code",
   "execution_count": 75,
   "metadata": {},
   "outputs": [
    {
     "data": {
      "text/plain": [
       "(1103664, 33)"
      ]
     },
     "execution_count": 75,
     "metadata": {},
     "output_type": "execute_result"
    }
   ],
   "source": [
    "final_dataset_wo_zero.shape"
   ]
  },
  {
   "cell_type": "code",
   "execution_count": 76,
   "metadata": {},
   "outputs": [
    {
     "data": {
      "text/plain": [
       "City Owned                 int64\n",
       "Plumbing                   int64\n",
       "Mechanical                 int64\n",
       "Boiler                     int64\n",
       "Fuel Burning               int64\n",
       "Fuel Storage               int64\n",
       "Standpipe                  int64\n",
       "Sprinkler                  int64\n",
       "Fire Alarm                 int64\n",
       "Equipment                  int64\n",
       "Fire Suppression           int64\n",
       "Curb Cut                   int64\n",
       "Other                      int64\n",
       "Professional Cert          int64\n",
       "Initial Cost              object\n",
       "Total Est. Fee            object\n",
       "BOROUGH                   object\n",
       "Bin #                     object\n",
       "Job Type                  object\n",
       "Self_Cert                  int64\n",
       "Bldg Type                float64\n",
       "Residential                int64\n",
       "Work Type                  int64\n",
       "Permit Status             object\n",
       "Filing Status             object\n",
       "Permit Type               object\n",
       "Owner's Business Type     object\n",
       "Non-Profit                object\n",
       "LATITUDE                 float64\n",
       "LONGITUDE                float64\n",
       "COUNCIL_DISTRICT         float64\n",
       "CENSUS_TRACT             float64\n",
       "Special District           int64\n",
       "dtype: object"
      ]
     },
     "execution_count": 76,
     "metadata": {},
     "output_type": "execute_result"
    }
   ],
   "source": [
    "final_dataset_wo_zero.dtypes"
   ]
  },
  {
   "cell_type": "code",
   "execution_count": 77,
   "metadata": {},
   "outputs": [],
   "source": [
    "final_dataset_wo_zero=final_dataset_wo_zero.drop([\"Bin #\",\"Initial Cost\"],axis=1)"
   ]
  },
  {
   "cell_type": "code",
   "execution_count": 78,
   "metadata": {},
   "outputs": [
    {
     "data": {
      "text/plain": [
       "City Owned               0\n",
       "Plumbing                 0\n",
       "Mechanical               0\n",
       "Boiler                   0\n",
       "Fuel Burning             0\n",
       "Fuel Storage             0\n",
       "Standpipe                0\n",
       "Sprinkler                0\n",
       "Fire Alarm               0\n",
       "Equipment                0\n",
       "Fire Suppression         0\n",
       "Curb Cut                 0\n",
       "Other                    0\n",
       "Professional Cert        0\n",
       "Total Est. Fee           0\n",
       "BOROUGH                  0\n",
       "Job Type                 0\n",
       "Self_Cert                0\n",
       "Bldg Type                0\n",
       "Residential              0\n",
       "Work Type                0\n",
       "Permit Status            0\n",
       "Filing Status            0\n",
       "Permit Type              0\n",
       "Owner's Business Type    0\n",
       "Non-Profit               0\n",
       "LATITUDE                 0\n",
       "LONGITUDE                0\n",
       "COUNCIL_DISTRICT         0\n",
       "CENSUS_TRACT             0\n",
       "Special District         0\n",
       "dtype: int64"
      ]
     },
     "execution_count": 78,
     "metadata": {},
     "output_type": "execute_result"
    }
   ],
   "source": [
    "#final_dataset_wo_zero[\"Permit Type\"].value_counts()\n",
    "#final_dataset_wo_zero.dtypes\n",
    "final_dataset_wo_zero.isnull().sum()"
   ]
  },
  {
   "cell_type": "code",
   "execution_count": 79,
   "metadata": {},
   "outputs": [],
   "source": [
    "from sklearn import preprocessing\n",
    "\n",
    "from sklearn.preprocessing import OneHotEncoder\n",
    "#enc = OneHotEncoder(categorical_features=5,handle_unknown='ignore')\n",
    "#ce_one_hot=ce.OneHotEncoder(cols=['BOROUGH','Job Type','Permit Status','Filing Status','Permit Type'])\n",
    "#final_dataset_wo_zero[['BOROUGH','Job Type','Permit Status','Filing Status','Permit Type']]=ce_one_hot.fit_transform(final_dataset_wo_zero[['BOROUGH','Job Type','Permit Status','Filing Status','Permit Type']])\n",
    "#enc.fit_transform(final_dataset_wo_zero[['BOROUGH','Job Type','Permit Status','Filing Status','Permit Type']])\n",
    "#cat_features = ['BOROUGH','Job Type','Permit Status','Filing Status','Permit Type']\n",
    "\n",
    "category_dummies=pd.get_dummies(final_dataset_wo_zero[['BOROUGH','Job Type','Permit Status','Filing Status','Permit Type']],prefix=['BOROUGH','Job Type','Permit Status','Filing Status','Permit Type'])\n",
    "final_dataset_wo_zero=pd.concat([final_dataset_wo_zero,category_dummies],axis=1).drop(['BOROUGH','Job Type','Permit Status','Filing Status','Permit Type'],axis=1)"
   ]
  },
  {
   "cell_type": "code",
   "execution_count": 80,
   "metadata": {},
   "outputs": [
    {
     "data": {
      "text/plain": [
       "(1103664, 49)"
      ]
     },
     "execution_count": 80,
     "metadata": {},
     "output_type": "execute_result"
    }
   ],
   "source": [
    "final_dataset_wo_zero.shape"
   ]
  },
  {
   "cell_type": "code",
   "execution_count": 81,
   "metadata": {},
   "outputs": [
    {
     "data": {
      "text/plain": [
       "City Owned                    int64\n",
       "Plumbing                      int64\n",
       "Mechanical                    int64\n",
       "Boiler                        int64\n",
       "Fuel Burning                  int64\n",
       "Fuel Storage                  int64\n",
       "Standpipe                     int64\n",
       "Sprinkler                     int64\n",
       "Fire Alarm                    int64\n",
       "Equipment                     int64\n",
       "Fire Suppression              int64\n",
       "Curb Cut                      int64\n",
       "Other                         int64\n",
       "Professional Cert             int64\n",
       "Total Est. Fee               object\n",
       "Self_Cert                     int64\n",
       "Bldg Type                   float64\n",
       "Residential                   int64\n",
       "Work Type                     int64\n",
       "Owner's Business Type        object\n",
       "Non-Profit                   object\n",
       "LATITUDE                    float64\n",
       "LONGITUDE                   float64\n",
       "COUNCIL_DISTRICT            float64\n",
       "CENSUS_TRACT                float64\n",
       "Special District              int64\n",
       "BOROUGH_BRONX                 uint8\n",
       "BOROUGH_BROOKLYN              uint8\n",
       "BOROUGH_MANHATTAN             uint8\n",
       "BOROUGH_QUEENS                uint8\n",
       "BOROUGH_STATEN ISLAND         uint8\n",
       "Job Type_A1                   uint8\n",
       "Job Type_A2                   uint8\n",
       "Job Type_A3                   uint8\n",
       "Job Type_DM                   uint8\n",
       "Job Type_NB                   uint8\n",
       "Permit Status_IN PROCESS      uint8\n",
       "Permit Status_ISSUED          uint8\n",
       "Permit Status_RE-ISSUED       uint8\n",
       "Permit Status_REVOKED         uint8\n",
       "Filing Status_INITIAL         uint8\n",
       "Filing Status_RENEWAL         uint8\n",
       "Permit Type_AL                uint8\n",
       "Permit Type_DM                uint8\n",
       "Permit Type_EQ                uint8\n",
       "Permit Type_EW                uint8\n",
       "Permit Type_FO                uint8\n",
       "Permit Type_NB                uint8\n",
       "Permit Type_PL                uint8\n",
       "dtype: object"
      ]
     },
     "execution_count": 81,
     "metadata": {},
     "output_type": "execute_result"
    }
   ],
   "source": [
    "final_dataset_wo_zero.dtypes"
   ]
  },
  {
   "cell_type": "code",
   "execution_count": 85,
   "metadata": {},
   "outputs": [
    {
     "data": {
      "text/plain": [
       "N    1036845\n",
       "Y      66819\n",
       "Name: Non-Profit, dtype: int64"
      ]
     },
     "execution_count": 85,
     "metadata": {},
     "output_type": "execute_result"
    }
   ],
   "source": [
    "final_dataset_wo_zero[\"Non-Profit\"].value_counts()"
   ]
  },
  {
   "cell_type": "code",
   "execution_count": 86,
   "metadata": {},
   "outputs": [],
   "source": [
    "final_dataset_wo_zero['Non-Profit'] = final_dataset_wo_zero['Non-Profit'].apply(lambda x: 0 if  x=='N' else 1)\n"
   ]
  },
  {
   "cell_type": "code",
   "execution_count": 87,
   "metadata": {},
   "outputs": [
    {
     "data": {
      "text/plain": [
       "0    1036845\n",
       "1      66819\n",
       "Name: Non-Profit, dtype: int64"
      ]
     },
     "execution_count": 87,
     "metadata": {},
     "output_type": "execute_result"
    }
   ],
   "source": [
    "final_dataset_wo_zero[\"Non-Profit\"].value_counts()"
   ]
  },
  {
   "cell_type": "code",
   "execution_count": 88,
   "metadata": {},
   "outputs": [],
   "source": [
    "final_dataset_wo_zero=final_dataset_wo_zero.drop([\"Owner's Business Type\"],axis=1)"
   ]
  },
  {
   "cell_type": "code",
   "execution_count": 89,
   "metadata": {},
   "outputs": [
    {
     "data": {
      "text/plain": [
       "City Owned                    int64\n",
       "Plumbing                      int64\n",
       "Mechanical                    int64\n",
       "Boiler                        int64\n",
       "Fuel Burning                  int64\n",
       "Fuel Storage                  int64\n",
       "Standpipe                     int64\n",
       "Sprinkler                     int64\n",
       "Fire Alarm                    int64\n",
       "Equipment                     int64\n",
       "Fire Suppression              int64\n",
       "Curb Cut                      int64\n",
       "Other                         int64\n",
       "Professional Cert             int64\n",
       "Total Est. Fee               object\n",
       "Self_Cert                     int64\n",
       "Bldg Type                   float64\n",
       "Residential                   int64\n",
       "Work Type                     int64\n",
       "Non-Profit                    int64\n",
       "LATITUDE                    float64\n",
       "LONGITUDE                   float64\n",
       "COUNCIL_DISTRICT            float64\n",
       "CENSUS_TRACT                float64\n",
       "Special District              int64\n",
       "BOROUGH_BRONX                 uint8\n",
       "BOROUGH_BROOKLYN              uint8\n",
       "BOROUGH_MANHATTAN             uint8\n",
       "BOROUGH_QUEENS                uint8\n",
       "BOROUGH_STATEN ISLAND         uint8\n",
       "Job Type_A1                   uint8\n",
       "Job Type_A2                   uint8\n",
       "Job Type_A3                   uint8\n",
       "Job Type_DM                   uint8\n",
       "Job Type_NB                   uint8\n",
       "Permit Status_IN PROCESS      uint8\n",
       "Permit Status_ISSUED          uint8\n",
       "Permit Status_RE-ISSUED       uint8\n",
       "Permit Status_REVOKED         uint8\n",
       "Filing Status_INITIAL         uint8\n",
       "Filing Status_RENEWAL         uint8\n",
       "Permit Type_AL                uint8\n",
       "Permit Type_DM                uint8\n",
       "Permit Type_EQ                uint8\n",
       "Permit Type_EW                uint8\n",
       "Permit Type_FO                uint8\n",
       "Permit Type_NB                uint8\n",
       "Permit Type_PL                uint8\n",
       "dtype: object"
      ]
     },
     "execution_count": 89,
     "metadata": {},
     "output_type": "execute_result"
    }
   ],
   "source": [
    "final_dataset_wo_zero.dtypes"
   ]
  },
  {
   "cell_type": "code",
   "execution_count": 93,
   "metadata": {},
   "outputs": [],
   "source": [
    "import numpy as np\n",
    "final_dataset_wo_zero['Total Est. Fee'] = final_dataset_wo_zero['Total Est. Fee'].apply(lambda x: x.replace('$','')).astype(np.float)"
   ]
  },
  {
   "cell_type": "code",
   "execution_count": 133,
   "metadata": {},
   "outputs": [],
   "source": [
    "final_dataset_scaled_features=final_dataset_wo_zero.drop([\"LATITUDE\",\"LONGITUDE\",\"CENSUS_TRACT\"],axis=1)"
   ]
  },
  {
   "cell_type": "code",
   "execution_count": 95,
   "metadata": {},
   "outputs": [],
   "source": [
    "#final_dataset_wo_zero.dtypes"
   ]
  },
  {
   "cell_type": "code",
   "execution_count": 134,
   "metadata": {},
   "outputs": [],
   "source": [
    "from sklearn.model_selection import train_test_split\n",
    "from sklearn.ensemble import RandomForestRegressor\n",
    "from sklearn.metrics import  r2_score\n",
    "X_train, X_test, Y_train, Y_test = train_test_split(final_dataset_scaled_features.loc[:, final_dataset_scaled_features.columns != 'Total Est. Fee'],final_dataset_scaled_features['Total Est. Fee'],random_state=0)"
   ]
  },
  {
   "cell_type": "code",
   "execution_count": 135,
   "metadata": {},
   "outputs": [
    {
     "name": "stdout",
     "output_type": "stream",
     "text": [
      "(827748, 44)\n",
      "(827748,)\n",
      "(275916, 44)\n",
      "(275916,)\n"
     ]
    }
   ],
   "source": [
    "print(X_train.shape)\n",
    "print(Y_train.shape)\n",
    "print(X_test.shape)\n",
    "print(Y_test.shape)"
   ]
  },
  {
   "cell_type": "code",
   "execution_count": 136,
   "metadata": {},
   "outputs": [],
   "source": [
    "rf = RandomForestRegressor(n_estimators = 200, random_state = 0)\n",
    "rf.fit(X_train,Y_train)\n",
    "Target_predicted= rf.predict(X_test)\n",
    "#Target_predicted=Target_predicted.reshape(-1,1)\n"
   ]
  },
  {
   "cell_type": "code",
   "execution_count": 139,
   "metadata": {},
   "outputs": [],
   "source": [
    "#print(Target_predicted)"
   ]
  },
  {
   "cell_type": "code",
   "execution_count": 137,
   "metadata": {},
   "outputs": [
    {
     "name": "stdout",
     "output_type": "stream",
     "text": [
      "Mean Absolute Error: 1255.67\n"
     ]
    }
   ],
   "source": [
    "from sklearn.metrics import mean_squared_error\n",
    "# MSE=mean_squared_error(Y_test,Target_predicted)\n",
    "# print(\"..\",MSE)\n",
    "#predictions = rf.predict(test_features)\n",
    "errors = abs(Target_predicted - Y_test)\n",
    "print('Mean Absolute Error:', round(np.mean(errors), 2))"
   ]
  },
  {
   "cell_type": "code",
   "execution_count": 138,
   "metadata": {},
   "outputs": [],
   "source": [
    "#final_dataset_wo_zero.dtypes"
   ]
  },
  {
   "cell_type": "code",
   "execution_count": 146,
   "metadata": {},
   "outputs": [
    {
     "name": "stdout",
     "output_type": "stream",
     "text": [
      "Mean Absolute Error NN 1399.75\n"
     ]
    }
   ],
   "source": [
    "from sklearn.neural_network import MLPRegressor\n",
    "MLPmodel=MLPRegressor(solver='sgd',max_iter=5000, activation= 'tanh' , random_state=0, hidden_layer_sizes=[50,10] , alpha=0.5)\n",
    "MLPmodel.fit(X_train,Y_train)\n",
    "Target_predicted_NN= MLPmodel.predict(X_test)\n",
    "errors_NN = abs(Target_predicted_NN - Y_test)\n",
    "print('Mean Absolute Error NN', round(np.mean(errors_NN), 2))"
   ]
  },
  {
   "cell_type": "code",
   "execution_count": 148,
   "metadata": {},
   "outputs": [],
   "source": [
    "from sklearn.linear_model import Ridge \n",
    "from sklearn.linear_model import Lasso"
   ]
  },
  {
   "cell_type": "code",
   "execution_count": 157,
   "metadata": {},
   "outputs": [
    {
     "name": "stdout",
     "output_type": "stream",
     "text": [
      "Mean Absolute Error RM 1750.86\n"
     ]
    }
   ],
   "source": [
    "RidgeModel=Ridge(alpha=0.1).fit(X_train, Y_train)\n",
    "Target_predicted_RM= RidgeModel.predict(X_test)\n",
    "errors_RM = abs(Target_predicted_RM - Y_test)\n",
    "print('Mean Absolute Error RM', round(np.mean(errors_RM), 2))"
   ]
  },
  {
   "cell_type": "code",
   "execution_count": 162,
   "metadata": {},
   "outputs": [],
   "source": [
    "#final_dataset_wo_zero[\"Total Est. Fee\"].value_counts()"
   ]
  },
  {
   "cell_type": "code",
   "execution_count": null,
   "metadata": {},
   "outputs": [],
   "source": []
  },
  {
   "cell_type": "code",
   "execution_count": null,
   "metadata": {},
   "outputs": [],
   "source": []
  }
 ],
 "metadata": {
  "kernelspec": {
   "display_name": "Python 3",
   "language": "python",
   "name": "python3"
  },
  "language_info": {
   "codemirror_mode": {
    "name": "ipython",
    "version": 3
   },
   "file_extension": ".py",
   "mimetype": "text/x-python",
   "name": "python",
   "nbconvert_exporter": "python",
   "pygments_lexer": "ipython3",
   "version": "3.6.5"
  }
 },
 "nbformat": 4,
 "nbformat_minor": 2
}
